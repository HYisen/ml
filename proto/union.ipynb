{
 "cells": [
  {
   "cell_type": "code",
   "execution_count": 1,
   "metadata": {},
   "outputs": [],
   "source": [
    "def exam(test_data, think_method):\n",
    "    def judge(v):\n",
    "        return v == 'yes'\n",
    "\n",
    "    statics = {'passP': 0, 'failP': 0, 'passN': 0, 'failN': 0}\n",
    "    for item in test_data:\n",
    "        result = think_method(item)\n",
    "        if judge(result):\n",
    "            if judge(item[-1]):\n",
    "                desc = 'passP'\n",
    "            else:\n",
    "                desc = 'failP'\n",
    "        else:\n",
    "            if judge(item[-1]):\n",
    "                desc = 'failN'\n",
    "            else:\n",
    "                desc = 'passN'\n",
    "        statics[desc] += 1\n",
    "    print(statics)\n",
    "    print('{0:20s}{1:20s}{2:20s}'.format('', 'actual_positive', 'actual_negative'))\n",
    "    print('{0:20s}{1:20s}{2:20s}'.format('think_positive', str(statics['passP']), str(statics['failP'])))\n",
    "    print('{0:20s}{1:20s}{2:20s}'.format('think_negative', str(statics['failN']), str(statics['passN'])))\n",
    "    print(f\"ratio = {statics['failP'] / statics['passP']:5.3f}\")\n",
    "    print(f\"rate  = {statics['passP'] / (statics['passP'] + statics['failN']):5.3f}\")\n",
    "    total = statics['passP'] + statics['failP'] + statics['passN'] + statics['failN']\n",
    "    print(f\"profit= {1000 * statics['passP'] - 1 * (statics['passP'] + statics['failP']) - 0.01 * total :.2f}\")\n"
   ]
  },
  {
   "cell_type": "code",
   "execution_count": 2,
   "metadata": {},
   "outputs": [],
   "source": [
    "def load(mapper=lambda v: v, use_full=False):\n",
    "    data = []\n",
    "    name = []\n",
    "\n",
    "    path = '../data/bank.csv' if not use_full else '../data/bank-full.csv'\n",
    "\n",
    "    with open(path) as fp:\n",
    "        for linage, line in enumerate(fp):\n",
    "            line = line.strip('\\n')\n",
    "            # print(f'{linage} => {line}')\n",
    "            split = line.split(';')\n",
    "            for idx, item in enumerate(split):\n",
    "                split[idx] = item.strip('\"')\n",
    "            if linage == 0:\n",
    "                name = split\n",
    "                continue\n",
    "            data.append(mapper(split))\n",
    "    return data, name\n",
    "\n",
    "def show(data, limit=0):\n",
    "    for index, row in enumerate(data):\n",
    "        if limit != 0 and index >= limit:\n",
    "            break\n",
    "        print(row)"
   ]
  },
  {
   "cell_type": "code",
   "execution_count": 3,
   "metadata": {},
   "outputs": [
    {
     "name": "stdout",
     "output_type": "stream",
     "text": [
      "['age', 'job', 'marital', 'education', 'default', 'balance', 'housing', 'loan', 'contact', 'day', 'month', 'duration', 'campaign', 'pdays', 'previous', 'poutcome', 'y']\n",
      "['30', 'unemployed', 'married', 'primary', 'no', '1787', 'no', 'no', 'cellular', '19', 'oct', '79', '1', '-1', '0', 'unknown', 'no']\n",
      "['33', 'services', 'married', 'secondary', 'no', '4789', 'yes', 'yes', 'cellular', '11', 'may', '220', '1', '339', '4', 'failure', 'no']\n",
      "['35', 'management', 'single', 'tertiary', 'no', '1350', 'yes', 'no', 'cellular', '16', 'apr', '185', '1', '330', '1', 'failure', 'no']\n",
      "['30', 'management', 'married', 'tertiary', 'no', '1476', 'yes', 'yes', 'unknown', '3', 'jun', '199', '4', '-1', '0', 'unknown', 'no']\n",
      "['59', 'blue-collar', 'married', 'secondary', 'no', '0', 'yes', 'no', 'unknown', '5', 'may', '226', '1', '-1', '0', 'unknown', 'no']\n",
      "['35', 'management', 'single', 'tertiary', 'no', '747', 'no', 'no', 'cellular', '23', 'feb', '141', '2', '176', '3', 'failure', 'no']\n",
      "['36', 'self-employed', 'married', 'tertiary', 'no', '307', 'yes', 'no', 'cellular', '14', 'may', '341', '1', '330', '2', 'other', 'no']\n",
      "['39', 'technician', 'married', 'secondary', 'no', '147', 'yes', 'no', 'cellular', '6', 'may', '151', '2', '-1', '0', 'unknown', 'no']\n",
      "['41', 'entrepreneur', 'married', 'tertiary', 'no', '221', 'yes', 'no', 'unknown', '14', 'may', '57', '2', '-1', '0', 'unknown', 'no']\n",
      "['43', 'services', 'married', 'primary', 'no', '-88', 'yes', 'yes', 'cellular', '17', 'apr', '313', '1', '147', '2', 'failure', 'no']\n"
     ]
    }
   ],
   "source": [
    "good, name = load()\n",
    "\n",
    "print(name)\n",
    "show(good, 10)"
   ]
  },
  {
   "cell_type": "code",
   "execution_count": 4,
   "metadata": {},
   "outputs": [],
   "source": [
    "def scan(data, col, step):\n",
    "    stat = {12: 100}\n",
    "    for attr in [row[col] for row in data]:\n",
    "        # print(attr)\n",
    "        cls = int(int(attr) / step)\n",
    "        # print(cls)\n",
    "        if cls not in stat:\n",
    "            stat[cls] = 0\n",
    "        stat[cls] += 1\n",
    "    for key in sorted(stat):\n",
    "        print(f'{key:3d}:{stat[key]:5d}')\n"
   ]
  },
  {
   "cell_type": "code",
   "execution_count": 5,
   "metadata": {},
   "outputs": [
    {
     "name": "stdout",
     "output_type": "stream",
     "text": [
      "  1:    4\n",
      "  2:  478\n",
      "  3: 1808\n",
      "  4: 1203\n",
      "  5:  854\n",
      "  6:  113\n",
      "  7:   47\n",
      "  8:   14\n",
      " 12:  100\n",
      "age|balance\n",
      " -3:    1\n",
      " -2:    1\n",
      " -1:   12\n",
      "  0: 3026\n",
      "  1:  594\n",
      "  2:  268\n",
      "  3:  186\n",
      "  4:  124\n",
      "  5:   75\n",
      "  6:   48\n",
      "  7:   39\n",
      "  8:   34\n",
      "  9:   21\n",
      " 10:   13\n",
      " 11:   11\n",
      " 12:  108\n",
      " 13:   12\n",
      " 14:    8\n",
      " 15:    5\n",
      " 16:    9\n",
      " 17:    2\n",
      " 18:    1\n",
      " 19:    3\n",
      " 20:    1\n",
      " 21:    3\n",
      " 22:    5\n",
      " 23:    1\n",
      " 25:    1\n",
      " 26:    4\n",
      " 27:    3\n",
      " 42:    1\n",
      " 71:    1\n"
     ]
    }
   ],
   "source": [
    "scan(good, 0, 10)\n",
    "print('age|balance')\n",
    "scan(good, 5, 1000)"
   ]
  },
  {
   "cell_type": "code",
   "execution_count": 6,
   "metadata": {},
   "outputs": [],
   "source": [
    "def bank_mapper(line):\n",
    "    rtn = [line[k] for k in range(8)]\n",
    "    item = int(line[0])\n",
    "    if item < 30:\n",
    "        rtn[0] = \"below\"\n",
    "    elif item < 40:\n",
    "        rtn[0] = \"30s\"\n",
    "    elif item < 50:\n",
    "        rtn[0] = \"40s\"\n",
    "    else:\n",
    "        rtn[0] = \"above\"\n",
    "\n",
    "    item = int(line[5])\n",
    "    if item < 0:\n",
    "        rtn[5] = \"minus\"\n",
    "    elif item < 1000:\n",
    "        rtn[5] = \"low\"\n",
    "    else:\n",
    "        rtn[5] = \"high\"\n",
    "    return rtn"
   ]
  },
  {
   "cell_type": "code",
   "execution_count": 7,
   "metadata": {},
   "outputs": [],
   "source": [
    "import random\n",
    "\n",
    "def divide_data(orig_data, test_size):\n",
    "    random.Random(17).shuffle(orig_data)\n",
    "    return orig_data[:test_size], orig_data[test_size:]"
   ]
  },
  {
   "cell_type": "code",
   "execution_count": 8,
   "metadata": {},
   "outputs": [
    {
     "name": "stdout",
     "output_type": "stream",
     "text": [
      "['30s', 'unemployed', 'married', 'primary', 'no', 'high', 'no', 'no']\n",
      "['30s', 'services', 'married', 'secondary', 'no', 'high', 'yes', 'yes']\n",
      "['30s', 'management', 'single', 'tertiary', 'no', 'high', 'yes', 'no']\n",
      "['30s', 'management', 'married', 'tertiary', 'no', 'high', 'yes', 'yes']\n",
      "['above', 'blue-collar', 'married', 'secondary', 'no', 'low', 'yes', 'no']\n",
      "['30s', 'management', 'single', 'tertiary', 'no', 'low', 'no', 'no']\n",
      "['30s', 'self-employed', 'married', 'tertiary', 'no', 'low', 'yes', 'no']\n",
      "['30s', 'technician', 'married', 'secondary', 'no', 'low', 'yes', 'no']\n",
      "['40s', 'entrepreneur', 'married', 'tertiary', 'no', 'low', 'yes', 'no']\n",
      "['40s', 'services', 'married', 'primary', 'no', 'minus', 'yes', 'yes']\n"
     ]
    }
   ],
   "source": [
    "good, _ = load(bank_mapper)\n",
    "\n",
    "show(good, 10)\n",
    "\n",
    "test, train = divide_data(good, 1000)"
   ]
  },
  {
   "cell_type": "code",
   "execution_count": 9,
   "metadata": {},
   "outputs": [],
   "source": [
    "import collections\n",
    "\n",
    "stat = (collections.defaultdict(int), collections.defaultdict(int))\n",
    "\n",
    "\n",
    "def knn(item):\n",
    "    neighbours = []\n",
    "    min_dist = len(item)\n",
    "    for one in train:\n",
    "        new_dist = len(item) - 1\n",
    "        for idx, two in enumerate(one):\n",
    "            if idx == len(one) - 1:\n",
    "                continue\n",
    "            if two == item[idx]:\n",
    "                new_dist -= 1\n",
    "            if new_dist <= min_dist:\n",
    "                if new_dist < min_dist:\n",
    "                    min_dist = new_dist\n",
    "                    neighbours.clear()\n",
    "                neighbours.append(one)\n",
    "    count = 0\n",
    "    for neighbour in neighbours:\n",
    "        if neighbour[-1] == 'yes':\n",
    "            count += 1\n",
    "    rate = count / len(neighbours)\n",
    "\n",
    "    # print(f'dist {min_dist} with {len(neighbours)} posRate={rate:5.3f}')\n",
    "    stat[0][min_dist] += 1\n",
    "    stat[1][int(len(neighbours))] += 1\n",
    "\n",
    "    return 'yes' if rate > 0.5 else 'no'"
   ]
  },
  {
   "cell_type": "code",
   "execution_count": 10,
   "metadata": {},
   "outputs": [
    {
     "name": "stdout",
     "output_type": "stream",
     "text": [
      "{'passP': 9, 'failP': 24, 'passN': 826, 'failN': 141}\n",
      "                    actual_positive     actual_negative     \n",
      "think_positive      9                   24                  \n",
      "think_negative      141                 826                 \n",
      "ratio = 2.667\n",
      "rate  = 0.060\n",
      "profit= 8957.00\n",
      "defaultdict(<class 'int'>, {0: 884, 1: 114, 2: 2})\n",
      "[(1, 89), (2, 77), (3, 40), (4, 41), (5, 49), (6, 51), (7, 39), (8, 31), (9, 32), (10, 35), (11, 26), (12, 26), (13, 11), (14, 28), (15, 30), (16, 13), (17, 27), (18, 1), (19, 25), (20, 18), (21, 26), (22, 20), (23, 14), (24, 12), (25, 10), (26, 29), (30, 10), (31, 15), (32, 12), (33, 19), (34, 9), (35, 21), (36, 13), (38, 1), (39, 8), (40, 11), (41, 3), (42, 1), (43, 1), (44, 10), (47, 2), (50, 11), (51, 1), (52, 1), (55, 1), (58, 2), (61, 1), (62, 1), (65, 28), (67, 4), (73, 6), (78, 1), (79, 1), (95, 2), (98, 1), (113, 2), (125, 1)]\n"
     ]
    }
   ],
   "source": [
    "exam(test, knn)\n",
    "\n",
    "print(stat[0])\n",
    "print(sorted(stat[1].items()))"
   ]
  },
  {
   "cell_type": "code",
   "execution_count": 11,
   "metadata": {},
   "outputs": [],
   "source": [
    "from math import log2\n",
    "\n",
    "def divide(data, attr_idx):\n",
    "    rtn = collections.defaultdict(list)\n",
    "    # print(f'{attr_idx}')\n",
    "    for line in data:\n",
    "        rtn[line[attr_idx]].append(line)\n",
    "    return rtn\n",
    "\n",
    "\n",
    "def safe_calc(p):\n",
    "    return 0 if p == 0 else p * log2(p)\n",
    "\n",
    "\n",
    "def calc_entropy(data):\n",
    "    pos = [line[-1] for line in data].count('yes') / len(data)\n",
    "    neg = 1 - pos\n",
    "    return safe_calc(pos) + safe_calc(neg)\n",
    "\n",
    "\n",
    "def calc(divided):\n",
    "    rtn = 0\n",
    "    for _, value in divided.items():\n",
    "        rtn += calc_entropy(value) * len(value)\n",
    "    return rtn\n",
    "\n",
    "\n",
    "def build_tree(data, possible_index=None):\n",
    "    if possible_index is None:\n",
    "        possible_index = [i for i in range(len(data[0]) - 1)]\n",
    "    count = [line[-1] for line in data].count('yes')\n",
    "    if count == len(data) or count == 0 or not possible_index:\n",
    "        return -1, data, count / len(data)\n",
    "    record = -1e9  # a number so small that every possible one would larger than it.\n",
    "    index = -1\n",
    "    best_divided = {}\n",
    "    for i in possible_index:\n",
    "        candidate = divide(data, i)\n",
    "        delta = calc(candidate)\n",
    "        # print(f'{name[i]}\\t{delta}')\n",
    "        if delta > record:\n",
    "            record = delta\n",
    "            best_divided = candidate\n",
    "            index = i\n",
    "    possible_index.remove(index)\n",
    "    for key in best_divided:\n",
    "        temp = best_divided[key]\n",
    "        best_divided[key] = build_tree(temp, possible_index.copy())\n",
    "    return index, best_divided, count / len(data)\n",
    "\n",
    "\n",
    "def print_tree(depth, node, attr):\n",
    "    prefix = ' ' * (depth * 4)\n",
    "    index = node[0]\n",
    "    if index == -1:\n",
    "        print(f'{prefix}{attr} LEAF {node[2]:5.3f} of {len(node[1])}')\n",
    "        return\n",
    "    else:\n",
    "        print(f'{prefix}{attr}->{index}:{name[index]:10s}{node[2]:5.3f} of {len(node[1])}')\n",
    "        for attr, leaf in node[1].items():\n",
    "            print_tree(depth + 1, leaf, attr)\n",
    "\n",
    "            \n",
    "tree = build_tree(train)\n",
    "\n",
    "# print_tree(0, tree, 'root')\n",
    "\n",
    "\n",
    "def dt(data):\n",
    "    node = tree\n",
    "    while node[0] != -1:\n",
    "        next_node = node[1][data[node[0]]]\n",
    "        if not next_node:\n",
    "            break\n",
    "        node = next_node\n",
    "    rate = node[2]\n",
    "    # print(f'{rate:5.3f} of {len(node[1])}')\n",
    "    return 'yes' if rate > 0.5 else 'no'"
   ]
  },
  {
   "cell_type": "code",
   "execution_count": 12,
   "metadata": {},
   "outputs": [
    {
     "name": "stdout",
     "output_type": "stream",
     "text": [
      "{'passP': 13, 'failP': 33, 'passN': 817, 'failN': 137}\n",
      "                    actual_positive     actual_negative     \n",
      "think_positive      13                  33                  \n",
      "think_negative      137                 817                 \n",
      "ratio = 2.538\n",
      "rate  = 0.087\n",
      "profit= 12944.00\n"
     ]
    }
   ],
   "source": [
    "exam(test, dt)\n"
   ]
  },
  {
   "cell_type": "code",
   "execution_count": 13,
   "metadata": {},
   "outputs": [],
   "source": [
    "import numpy as np\n",
    "\n",
    "def group_attr(data):\n",
    "    col = collections.defaultdict(int)\n",
    "    for row in data:\n",
    "        col[row] += 1\n",
    "    return collections.OrderedDict(sorted(col.items()))\n",
    "\n",
    "\n",
    "def gen_mapper(orig):\n",
    "    orig = np.array(orig)\n",
    "    stat = []\n",
    "    for i in range(orig.shape[1] - 1):\n",
    "        col = group_attr(orig[:, i])\n",
    "        cnt = 0\n",
    "        for key in col:\n",
    "            col[key] = cnt\n",
    "            cnt += 1\n",
    "        stat.append(col)\n",
    "\n",
    "    def mapper(line):\n",
    "        rtn = []\n",
    "        for j in range(len(stat)):\n",
    "            vec = np.zeros(len(stat[j]))\n",
    "            vec[stat[j][line[j]]] = 1\n",
    "            rtn.extend(vec)\n",
    "        return rtn\n",
    "\n",
    "    return mapper\n",
    "\n",
    "\n",
    "def map_to_vector(orig, mapper):\n",
    "    x = [mapper(line) for line in orig]\n",
    "    y = [(1 if val == 'yes' else 0) for val in np.array(orig)[:, -1]]\n",
    "    return np.array(x), np.array(y)"
   ]
  },
  {
   "cell_type": "code",
   "execution_count": 14,
   "metadata": {
    "scrolled": true
   },
   "outputs": [
    {
     "name": "stdout",
     "output_type": "stream",
     "text": [
      "Epoch 1/20\n",
      "3521/3521 [==============================] - 1s 155us/step - loss: 0.4326 - acc: 0.8407\n",
      "Epoch 2/20\n",
      "3521/3521 [==============================] - 0s 108us/step - loss: 0.4131 - acc: 0.8472\n",
      "Epoch 3/20\n",
      "3521/3521 [==============================] - 0s 109us/step - loss: 0.4056 - acc: 0.8466\n",
      "Epoch 4/20\n",
      "3521/3521 [==============================] - 0s 112us/step - loss: 0.3974 - acc: 0.8483\n",
      "Epoch 5/20\n",
      "3521/3521 [==============================] - 0s 112us/step - loss: 0.3886 - acc: 0.8475\n",
      "Epoch 6/20\n",
      "3521/3521 [==============================] - 0s 109us/step - loss: 0.3945 - acc: 0.8492\n",
      "Epoch 7/20\n",
      "3521/3521 [==============================] - 0s 112us/step - loss: 0.3837 - acc: 0.8500\n",
      "Epoch 8/20\n",
      "3521/3521 [==============================] - 0s 106us/step - loss: 0.3771 - acc: 0.8483\n",
      "Epoch 9/20\n",
      "3521/3521 [==============================] - 0s 108us/step - loss: 0.3690 - acc: 0.8549\n",
      "Epoch 10/20\n",
      "3521/3521 [==============================] - 0s 109us/step - loss: 0.3703 - acc: 0.8517\n",
      "Epoch 11/20\n",
      "3521/3521 [==============================] - 0s 108us/step - loss: 0.3624 - acc: 0.8543\n",
      "Epoch 12/20\n",
      "3521/3521 [==============================] - 0s 111us/step - loss: 0.3539 - acc: 0.8543\n",
      "Epoch 13/20\n",
      "3521/3521 [==============================] - 0s 107us/step - loss: 0.3501 - acc: 0.8571\n",
      "Epoch 14/20\n",
      "3521/3521 [==============================] - 0s 112us/step - loss: 0.3451 - acc: 0.8574\n",
      "Epoch 15/20\n",
      "3521/3521 [==============================] - 0s 109us/step - loss: 0.3400 - acc: 0.8606\n",
      "Epoch 16/20\n",
      "3521/3521 [==============================] - 0s 109us/step - loss: 0.3367 - acc: 0.8617\n",
      "Epoch 17/20\n",
      "3521/3521 [==============================] - 0s 108us/step - loss: 0.3320 - acc: 0.8634\n",
      "Epoch 18/20\n",
      "3521/3521 [==============================] - 0s 110us/step - loss: 0.3315 - acc: 0.8620\n",
      "Epoch 19/20\n",
      "3521/3521 [==============================] - 0s 109us/step - loss: 0.3299 - acc: 0.8640\n",
      "Epoch 20/20\n",
      "3521/3521 [==============================] - 0s 109us/step - loss: 0.3245 - acc: 0.8620\n",
      "1000/1000 [==============================] - 0s 58us/step\n"
     ]
    }
   ],
   "source": [
    "import tensorflow as tf\n",
    "\n",
    "orig, _ = load(bank_mapper)\n",
    "mapper = gen_mapper(orig)\n",
    "test, train = divide_data(orig, 1000)\n",
    "x_test, y_test = map_to_vector(test, mapper)\n",
    "x_train, y_train = map_to_vector(train, mapper)\n",
    "\n",
    "mnist = tf.keras.datasets.mnist\n",
    "\n",
    "model = tf.keras.models.Sequential([\n",
    "    tf.keras.layers.Dense(512, activation=tf.nn.relu),\n",
    "    tf.keras.layers.Dense(512, activation=tf.nn.relu),\n",
    "    tf.keras.layers.Dropout(0.2),\n",
    "    tf.keras.layers.Dense(2, activation=tf.nn.softmax)\n",
    "])\n",
    "model.compile(optimizer='adam',\n",
    "              loss='sparse_categorical_crossentropy',\n",
    "              metrics=['accuracy'])\n",
    "\n",
    "model.fit(x_train, y_train, epochs=20)\n",
    "model.evaluate(x_test, y_test)\n",
    "\n",
    "\n",
    "def think(line):\n",
    "    vec = mapper(line)\n",
    "    predict = model.predict(np.array(vec).reshape(1, 30))\n",
    "    result = np.argmax(predict)\n",
    "    return 'yes' if result == 1 else 'no'"
   ]
  },
  {
   "cell_type": "code",
   "execution_count": 15,
   "metadata": {},
   "outputs": [
    {
     "name": "stdout",
     "output_type": "stream",
     "text": [
      "{'passP': 16, 'failP': 29, 'passN': 821, 'failN': 134}\n",
      "                    actual_positive     actual_negative     \n",
      "think_positive      16                  29                  \n",
      "think_negative      134                 821                 \n",
      "ratio = 1.812\n",
      "rate  = 0.107\n",
      "profit= 15945.00\n"
     ]
    }
   ],
   "source": [
    "exam(test, think)"
   ]
  },
  {
   "cell_type": "code",
   "execution_count": 16,
   "metadata": {},
   "outputs": [],
   "source": [
    "def all_yes(data):\n",
    "    return 'yes'\n"
   ]
  },
  {
   "cell_type": "code",
   "execution_count": 17,
   "metadata": {},
   "outputs": [
    {
     "name": "stdout",
     "output_type": "stream",
     "text": [
      "{'passP': 150, 'failP': 850, 'passN': 0, 'failN': 0}\n",
      "                    actual_positive     actual_negative     \n",
      "think_positive      150                 850                 \n",
      "think_negative      0                   0                   \n",
      "ratio = 5.667\n",
      "rate  = 1.000\n",
      "profit= 148990.00\n"
     ]
    }
   ],
   "source": [
    "exam(test, all_yes)"
   ]
  }
 ],
 "metadata": {
  "kernelspec": {
   "display_name": "Python 3",
   "language": "python",
   "name": "python3"
  },
  "language_info": {
   "codemirror_mode": {
    "name": "ipython",
    "version": 3
   },
   "file_extension": ".py",
   "mimetype": "text/x-python",
   "name": "python",
   "nbconvert_exporter": "python",
   "pygments_lexer": "ipython3",
   "version": "3.6.8"
  }
 },
 "nbformat": 4,
 "nbformat_minor": 2
}
